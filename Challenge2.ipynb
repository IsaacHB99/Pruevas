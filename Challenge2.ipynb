{
 "cells": [
  {
   "cell_type": "code",
   "execution_count": 1,
   "metadata": {},
   "outputs": [],
   "source": [
    "#Cecilia Morales Arriaga \n",
    "import tensorflow as tf"
   ]
  },
  {
   "cell_type": "code",
   "execution_count": 2,
   "metadata": {},
   "outputs": [
    {
     "name": "stdout",
     "output_type": "stream",
     "text": [
      "N: 6\n"
     ]
    }
   ],
   "source": [
    "n = int(input(\"N: \"))"
   ]
  },
  {
   "cell_type": "code",
   "execution_count": 9,
   "metadata": {},
   "outputs": [
    {
     "name": "stdout",
     "output_type": "stream",
     "text": [
      "Ejercicio 1)\n",
      "\n",
      "21.0\n"
     ]
    }
   ],
   "source": [
    "print(\"Ejercicio 1)\")\n",
    "graph = tf.Graph()\n",
    "with graph.as_default():\n",
    "    x = tf.Variable(0.0)\n",
    "    s = tf.Variable(0.0)\n",
    "    increment = tf.assign(x,x+1)\n",
    "    sum = tf.assign(s, x+s)\n",
    "\n",
    "\n",
    "    init = tf.global_variables_initializer()\n",
    "\n",
    "with tf.Session(graph=graph) as sess:\n",
    "    init.run()\n",
    "    for iteration in range (n):\n",
    "        increment.eval()\n",
    "        sum.eval()\n",
    "        \n",
    "     \n",
    "        \n",
    "    print()\n",
    "    print(s.eval())"
   ]
  },
  {
   "cell_type": "code",
   "execution_count": 10,
   "metadata": {},
   "outputs": [
    {
     "name": "stdout",
     "output_type": "stream",
     "text": [
      "Ejercicio 2)\n",
      "\n",
      "91.0\n"
     ]
    }
   ],
   "source": [
    "print(\"Ejercicio 2)\")\n",
    "graph = tf.Graph()\n",
    "with graph.as_default():\n",
    "    x = tf.Variable(0.0)\n",
    "    s = tf.Variable(0.0)\n",
    "    a = tf.Variable(0.0)\n",
    "    increment = tf.assign(x,x+1)\n",
    "    form = tf.assign(a, a*0+tf.pow(x, 2))\n",
    "    sum = tf.assign(s, a+s)\n",
    "\n",
    "\n",
    "    init = tf.global_variables_initializer()\n",
    "\n",
    "with tf.Session(graph=graph) as sess:\n",
    "    init.run()\n",
    "    for iteration in range (n):\n",
    "        increment.eval()\n",
    "        form.eval()\n",
    "        sum.eval()\n",
    "        \n",
    "     \n",
    "        \n",
    "    print()\n",
    "    print(s.eval())"
   ]
  },
  {
   "cell_type": "code",
   "execution_count": 11,
   "metadata": {},
   "outputs": [
    {
     "name": "stdout",
     "output_type": "stream",
     "text": [
      "Ejercicio 3)\n",
      "\n",
      "441.0\n"
     ]
    }
   ],
   "source": [
    "print(\"Ejercicio 3)\")\n",
    "graph = tf.Graph()\n",
    "with graph.as_default():\n",
    "    x = tf.Variable(0.0)\n",
    "    s = tf.Variable(0.0)\n",
    "    a = tf.Variable(0.0)\n",
    "    increment = tf.assign(x,x+1)\n",
    "    form = tf.assign(a, a*0+tf.pow(x, 3))\n",
    "    sum = tf.assign(s, a+s)\n",
    "\n",
    "\n",
    "    init = tf.global_variables_initializer()\n",
    "\n",
    "with tf.Session(graph=graph) as sess:\n",
    "    init.run()\n",
    "    for iteration in range (n):\n",
    "        increment.eval()\n",
    "        form.eval()\n",
    "        sum.eval()\n",
    "        \n",
    "     \n",
    "        \n",
    "    print()\n",
    "    print(s.eval())"
   ]
  },
  {
   "cell_type": "code",
   "execution_count": 12,
   "metadata": {},
   "outputs": [
    {
     "name": "stdout",
     "output_type": "stream",
     "text": [
      "Ejercicio 4)\n",
      "\n",
      "2275.0\n"
     ]
    }
   ],
   "source": [
    "print(\"Ejercicio 4)\")\n",
    "graph = tf.Graph()\n",
    "with graph.as_default():\n",
    "    x = tf.Variable(0.0)\n",
    "    s = tf.Variable(0.0)\n",
    "    a = tf.Variable(0.0)\n",
    "    increment = tf.assign(x,x+1)\n",
    "    form = tf.assign(a, a*0+tf.pow(x, 4))\n",
    "    sum = tf.assign(s, a+s)\n",
    "\n",
    "\n",
    "    init = tf.global_variables_initializer()\n",
    "\n",
    "with tf.Session(graph=graph) as sess:\n",
    "    init.run()\n",
    "    for iteration in range (n):\n",
    "        increment.eval()\n",
    "        form.eval()\n",
    "        sum.eval()\n",
    "        \n",
    "     \n",
    "        \n",
    "    print()\n",
    "    print(s.eval())"
   ]
  },
  {
   "cell_type": "code",
   "execution_count": null,
   "metadata": {},
   "outputs": [],
   "source": []
  }
 ],
 "metadata": {
  "kernelspec": {
   "display_name": "Python 3",
   "language": "python",
   "name": "python3"
  },
  "language_info": {
   "codemirror_mode": {
    "name": "ipython",
    "version": 3
   },
   "file_extension": ".py",
   "mimetype": "text/x-python",
   "name": "python",
   "nbconvert_exporter": "python",
   "pygments_lexer": "ipython3",
   "version": "3.6.6"
  }
 },
 "nbformat": 4,
 "nbformat_minor": 2
}
